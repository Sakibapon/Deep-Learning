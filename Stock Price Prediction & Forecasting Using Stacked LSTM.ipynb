{
 "cells": [
  {
   "cell_type": "code",
   "execution_count": 59,
   "metadata": {},
   "outputs": [],
   "source": [
    "import pandas_datareader as pdr\n",
    "import numpy as np\n",
    "import pandas as pd\n",
    "import matplotlib.pyplot as plt"
   ]
  },
  {
   "cell_type": "code",
   "execution_count": 12,
   "metadata": {},
   "outputs": [],
   "source": [
    "df = pdr.get_data_tiingo('AAPL', api_key='fbdf50a3c54ab5e3579cd7e64fa828dac86926b5')"
   ]
  },
  {
   "cell_type": "code",
   "execution_count": 16,
   "metadata": {},
   "outputs": [],
   "source": [
    "df.to_csv('Apple.csv')"
   ]
  },
  {
   "cell_type": "code",
   "execution_count": 60,
   "metadata": {},
   "outputs": [
    {
     "data": {
      "text/html": [
       "<div>\n",
       "<style scoped>\n",
       "    .dataframe tbody tr th:only-of-type {\n",
       "        vertical-align: middle;\n",
       "    }\n",
       "\n",
       "    .dataframe tbody tr th {\n",
       "        vertical-align: top;\n",
       "    }\n",
       "\n",
       "    .dataframe thead th {\n",
       "        text-align: right;\n",
       "    }\n",
       "</style>\n",
       "<table border=\"1\" class=\"dataframe\">\n",
       "  <thead>\n",
       "    <tr style=\"text-align: right;\">\n",
       "      <th></th>\n",
       "      <th>Unnamed: 0</th>\n",
       "      <th>symbol</th>\n",
       "      <th>date</th>\n",
       "      <th>close</th>\n",
       "      <th>high</th>\n",
       "      <th>low</th>\n",
       "      <th>open</th>\n",
       "      <th>volume</th>\n",
       "      <th>adjClose</th>\n",
       "      <th>adjHigh</th>\n",
       "      <th>adjLow</th>\n",
       "      <th>adjOpen</th>\n",
       "      <th>adjVolume</th>\n",
       "      <th>divCash</th>\n",
       "      <th>splitFactor</th>\n",
       "    </tr>\n",
       "  </thead>\n",
       "  <tbody>\n",
       "    <tr>\n",
       "      <th>0</th>\n",
       "      <td>0</td>\n",
       "      <td>AAPL</td>\n",
       "      <td>2015-06-22 00:00:00+00:00</td>\n",
       "      <td>127.61</td>\n",
       "      <td>128.06</td>\n",
       "      <td>127.0800</td>\n",
       "      <td>127.49</td>\n",
       "      <td>34039345</td>\n",
       "      <td>117.595601</td>\n",
       "      <td>118.010287</td>\n",
       "      <td>117.107194</td>\n",
       "      <td>117.485018</td>\n",
       "      <td>34039345</td>\n",
       "      <td>0.0</td>\n",
       "      <td>1.0</td>\n",
       "    </tr>\n",
       "    <tr>\n",
       "      <th>1</th>\n",
       "      <td>1</td>\n",
       "      <td>AAPL</td>\n",
       "      <td>2015-06-23 00:00:00+00:00</td>\n",
       "      <td>127.03</td>\n",
       "      <td>127.61</td>\n",
       "      <td>126.8792</td>\n",
       "      <td>127.48</td>\n",
       "      <td>30268863</td>\n",
       "      <td>117.061118</td>\n",
       "      <td>117.595601</td>\n",
       "      <td>116.922152</td>\n",
       "      <td>117.475803</td>\n",
       "      <td>30268863</td>\n",
       "      <td>0.0</td>\n",
       "      <td>1.0</td>\n",
       "    </tr>\n",
       "    <tr>\n",
       "      <th>2</th>\n",
       "      <td>2</td>\n",
       "      <td>AAPL</td>\n",
       "      <td>2015-06-24 00:00:00+00:00</td>\n",
       "      <td>128.11</td>\n",
       "      <td>129.80</td>\n",
       "      <td>127.1200</td>\n",
       "      <td>127.21</td>\n",
       "      <td>55280855</td>\n",
       "      <td>118.056363</td>\n",
       "      <td>119.613737</td>\n",
       "      <td>117.144055</td>\n",
       "      <td>117.226992</td>\n",
       "      <td>55280855</td>\n",
       "      <td>0.0</td>\n",
       "      <td>1.0</td>\n",
       "    </tr>\n",
       "    <tr>\n",
       "      <th>3</th>\n",
       "      <td>3</td>\n",
       "      <td>AAPL</td>\n",
       "      <td>2015-06-25 00:00:00+00:00</td>\n",
       "      <td>127.50</td>\n",
       "      <td>129.20</td>\n",
       "      <td>127.5000</td>\n",
       "      <td>128.86</td>\n",
       "      <td>31938100</td>\n",
       "      <td>117.494234</td>\n",
       "      <td>119.060823</td>\n",
       "      <td>117.494234</td>\n",
       "      <td>118.747505</td>\n",
       "      <td>31938100</td>\n",
       "      <td>0.0</td>\n",
       "      <td>1.0</td>\n",
       "    </tr>\n",
       "    <tr>\n",
       "      <th>4</th>\n",
       "      <td>4</td>\n",
       "      <td>AAPL</td>\n",
       "      <td>2015-06-26 00:00:00+00:00</td>\n",
       "      <td>126.75</td>\n",
       "      <td>127.99</td>\n",
       "      <td>126.5100</td>\n",
       "      <td>127.67</td>\n",
       "      <td>44066841</td>\n",
       "      <td>116.803091</td>\n",
       "      <td>117.945780</td>\n",
       "      <td>116.581926</td>\n",
       "      <td>117.650893</td>\n",
       "      <td>44066841</td>\n",
       "      <td>0.0</td>\n",
       "      <td>1.0</td>\n",
       "    </tr>\n",
       "  </tbody>\n",
       "</table>\n",
       "</div>"
      ],
      "text/plain": [
       "   Unnamed: 0 symbol                       date   close    high       low  \\\n",
       "0           0   AAPL  2015-06-22 00:00:00+00:00  127.61  128.06  127.0800   \n",
       "1           1   AAPL  2015-06-23 00:00:00+00:00  127.03  127.61  126.8792   \n",
       "2           2   AAPL  2015-06-24 00:00:00+00:00  128.11  129.80  127.1200   \n",
       "3           3   AAPL  2015-06-25 00:00:00+00:00  127.50  129.20  127.5000   \n",
       "4           4   AAPL  2015-06-26 00:00:00+00:00  126.75  127.99  126.5100   \n",
       "\n",
       "     open    volume    adjClose     adjHigh      adjLow     adjOpen  \\\n",
       "0  127.49  34039345  117.595601  118.010287  117.107194  117.485018   \n",
       "1  127.48  30268863  117.061118  117.595601  116.922152  117.475803   \n",
       "2  127.21  55280855  118.056363  119.613737  117.144055  117.226992   \n",
       "3  128.86  31938100  117.494234  119.060823  117.494234  118.747505   \n",
       "4  127.67  44066841  116.803091  117.945780  116.581926  117.650893   \n",
       "\n",
       "   adjVolume  divCash  splitFactor  \n",
       "0   34039345      0.0          1.0  \n",
       "1   30268863      0.0          1.0  \n",
       "2   55280855      0.0          1.0  \n",
       "3   31938100      0.0          1.0  \n",
       "4   44066841      0.0          1.0  "
      ]
     },
     "execution_count": 60,
     "metadata": {},
     "output_type": "execute_result"
    }
   ],
   "source": [
    "df=pd.read_csv('Apple.csv')\n",
    "df.head()"
   ]
  },
  {
   "cell_type": "code",
   "execution_count": 18,
   "metadata": {},
   "outputs": [
    {
     "data": {
      "text/html": [
       "<div>\n",
       "<style scoped>\n",
       "    .dataframe tbody tr th:only-of-type {\n",
       "        vertical-align: middle;\n",
       "    }\n",
       "\n",
       "    .dataframe tbody tr th {\n",
       "        vertical-align: top;\n",
       "    }\n",
       "\n",
       "    .dataframe thead th {\n",
       "        text-align: right;\n",
       "    }\n",
       "</style>\n",
       "<table border=\"1\" class=\"dataframe\">\n",
       "  <thead>\n",
       "    <tr style=\"text-align: right;\">\n",
       "      <th></th>\n",
       "      <th>Unnamed: 0</th>\n",
       "      <th>symbol</th>\n",
       "      <th>date</th>\n",
       "      <th>close</th>\n",
       "      <th>high</th>\n",
       "      <th>low</th>\n",
       "      <th>open</th>\n",
       "      <th>volume</th>\n",
       "      <th>adjClose</th>\n",
       "      <th>adjHigh</th>\n",
       "      <th>adjLow</th>\n",
       "      <th>adjOpen</th>\n",
       "      <th>adjVolume</th>\n",
       "      <th>divCash</th>\n",
       "      <th>splitFactor</th>\n",
       "    </tr>\n",
       "  </thead>\n",
       "  <tbody>\n",
       "    <tr>\n",
       "      <th>1254</th>\n",
       "      <td>1254</td>\n",
       "      <td>AAPL</td>\n",
       "      <td>2020-06-15 00:00:00+00:00</td>\n",
       "      <td>342.99</td>\n",
       "      <td>345.68</td>\n",
       "      <td>332.58</td>\n",
       "      <td>333.250</td>\n",
       "      <td>34702230</td>\n",
       "      <td>342.99</td>\n",
       "      <td>345.68</td>\n",
       "      <td>332.58</td>\n",
       "      <td>333.250</td>\n",
       "      <td>34702230</td>\n",
       "      <td>0.0</td>\n",
       "      <td>1.0</td>\n",
       "    </tr>\n",
       "    <tr>\n",
       "      <th>1255</th>\n",
       "      <td>1255</td>\n",
       "      <td>AAPL</td>\n",
       "      <td>2020-06-16 00:00:00+00:00</td>\n",
       "      <td>352.08</td>\n",
       "      <td>353.20</td>\n",
       "      <td>344.72</td>\n",
       "      <td>351.460</td>\n",
       "      <td>41357182</td>\n",
       "      <td>352.08</td>\n",
       "      <td>353.20</td>\n",
       "      <td>344.72</td>\n",
       "      <td>351.460</td>\n",
       "      <td>41357182</td>\n",
       "      <td>0.0</td>\n",
       "      <td>1.0</td>\n",
       "    </tr>\n",
       "    <tr>\n",
       "      <th>1256</th>\n",
       "      <td>1256</td>\n",
       "      <td>AAPL</td>\n",
       "      <td>2020-06-17 00:00:00+00:00</td>\n",
       "      <td>351.59</td>\n",
       "      <td>355.40</td>\n",
       "      <td>351.09</td>\n",
       "      <td>355.150</td>\n",
       "      <td>28601626</td>\n",
       "      <td>351.59</td>\n",
       "      <td>355.40</td>\n",
       "      <td>351.09</td>\n",
       "      <td>355.150</td>\n",
       "      <td>28601626</td>\n",
       "      <td>0.0</td>\n",
       "      <td>1.0</td>\n",
       "    </tr>\n",
       "    <tr>\n",
       "      <th>1257</th>\n",
       "      <td>1257</td>\n",
       "      <td>AAPL</td>\n",
       "      <td>2020-06-18 00:00:00+00:00</td>\n",
       "      <td>351.73</td>\n",
       "      <td>353.45</td>\n",
       "      <td>349.22</td>\n",
       "      <td>351.410</td>\n",
       "      <td>24205096</td>\n",
       "      <td>351.73</td>\n",
       "      <td>353.45</td>\n",
       "      <td>349.22</td>\n",
       "      <td>351.410</td>\n",
       "      <td>24205096</td>\n",
       "      <td>0.0</td>\n",
       "      <td>1.0</td>\n",
       "    </tr>\n",
       "    <tr>\n",
       "      <th>1258</th>\n",
       "      <td>1258</td>\n",
       "      <td>AAPL</td>\n",
       "      <td>2020-06-19 00:00:00+00:00</td>\n",
       "      <td>349.72</td>\n",
       "      <td>356.56</td>\n",
       "      <td>345.15</td>\n",
       "      <td>354.635</td>\n",
       "      <td>66118952</td>\n",
       "      <td>349.72</td>\n",
       "      <td>356.56</td>\n",
       "      <td>345.15</td>\n",
       "      <td>354.635</td>\n",
       "      <td>66118952</td>\n",
       "      <td>0.0</td>\n",
       "      <td>1.0</td>\n",
       "    </tr>\n",
       "  </tbody>\n",
       "</table>\n",
       "</div>"
      ],
      "text/plain": [
       "      Unnamed: 0 symbol                       date   close    high     low  \\\n",
       "1254        1254   AAPL  2020-06-15 00:00:00+00:00  342.99  345.68  332.58   \n",
       "1255        1255   AAPL  2020-06-16 00:00:00+00:00  352.08  353.20  344.72   \n",
       "1256        1256   AAPL  2020-06-17 00:00:00+00:00  351.59  355.40  351.09   \n",
       "1257        1257   AAPL  2020-06-18 00:00:00+00:00  351.73  353.45  349.22   \n",
       "1258        1258   AAPL  2020-06-19 00:00:00+00:00  349.72  356.56  345.15   \n",
       "\n",
       "         open    volume  adjClose  adjHigh  adjLow  adjOpen  adjVolume  \\\n",
       "1254  333.250  34702230    342.99   345.68  332.58  333.250   34702230   \n",
       "1255  351.460  41357182    352.08   353.20  344.72  351.460   41357182   \n",
       "1256  355.150  28601626    351.59   355.40  351.09  355.150   28601626   \n",
       "1257  351.410  24205096    351.73   353.45  349.22  351.410   24205096   \n",
       "1258  354.635  66118952    349.72   356.56  345.15  354.635   66118952   \n",
       "\n",
       "      divCash  splitFactor  \n",
       "1254      0.0          1.0  \n",
       "1255      0.0          1.0  \n",
       "1256      0.0          1.0  \n",
       "1257      0.0          1.0  \n",
       "1258      0.0          1.0  "
      ]
     },
     "execution_count": 18,
     "metadata": {},
     "output_type": "execute_result"
    }
   ],
   "source": [
    "df.tail()"
   ]
  },
  {
   "cell_type": "code",
   "execution_count": 61,
   "metadata": {},
   "outputs": [
    {
     "data": {
      "text/plain": [
       "0       127.61\n",
       "1       127.03\n",
       "2       128.11\n",
       "3       127.50\n",
       "4       126.75\n",
       "         ...  \n",
       "1254    342.99\n",
       "1255    352.08\n",
       "1256    351.59\n",
       "1257    351.73\n",
       "1258    349.72\n",
       "Name: close, Length: 1259, dtype: float64"
      ]
     },
     "execution_count": 61,
     "metadata": {},
     "output_type": "execute_result"
    }
   ],
   "source": [
    "df1=df.reset_index()['close']\n",
    "df1"
   ]
  },
  {
   "cell_type": "code",
   "execution_count": 20,
   "metadata": {},
   "outputs": [
    {
     "data": {
      "text/plain": [
       "[<matplotlib.lines.Line2D at 0x2a9ca348b08>]"
      ]
     },
     "execution_count": 20,
     "metadata": {},
     "output_type": "execute_result"
    },
    {
     "data": {
      "image/png": "[encoded data removed]",
      "text/plain": [
       "<Figure size 432x288 with 1 Axes>"
      ]
     },
     "metadata": {
      "needs_background": "light"
     },
     "output_type": "display_data"
    }
   ],
   "source": [
    "plt.plot(df1)"
   ]
  },
  {
   "cell_type": "code",
   "execution_count": 62,
   "metadata": {},
   "outputs": [
    {
     "name": "stdout",
     "output_type": "stream",
     "text": [
      "(1259, 1)\n"
     ]
    }
   ],
   "source": [
    "from sklearn.preprocessing import MinMaxScaler\n",
    "scaler=MinMaxScaler(feature_range=(0,1))\n",
    "df1=scaler.fit_transform(np.array(df1).reshape(-1,1))\n",
    "print(df1.shape)"
   ]
  },
  {
   "cell_type": "code",
   "execution_count": 64,
   "metadata": {},
   "outputs": [
    {
     "data": {
      "text/plain": [
       "(818, 441)"
      ]
     },
     "execution_count": 64,
     "metadata": {},
     "output_type": "execute_result"
    }
   ],
   "source": [
    "training_size=int(len(df1)*0.65)\n",
    "test_size=len(df1)-training_size\n",
    "train_data,test_data=df1[0:training_size,:],df1[training_size:len(df1),:1]\n",
    "training_size,test_size"
   ]
  },
  {
   "cell_type": "code",
   "execution_count": 68,
   "metadata": {},
   "outputs": [],
   "source": [
    "def create_dataset(dataset, time_step=1):\n",
    "\tdataX, dataY = [], []\n",
    "\tfor i in range(len(dataset)-time_step-1):\n",
    "\t\ta = dataset[i:(i+time_step), 0]   ###i=0, 0,1,2,3-----99   100 \n",
    "\t\tdataX.append(a)\n",
    "\t\tdataY.append(dataset[i + time_step, 0])\n",
    "\treturn np.array(dataX), np.array(dataY)"
   ]
  },
  {
   "cell_type": "code",
   "execution_count": 69,
   "metadata": {},
   "outputs": [],
   "source": [
    "time_step = 100\n",
    "X_train, y_train = create_dataset(train_data, time_step)\n",
    "X_test, ytest = create_dataset(test_data, time_step)"
   ]
  },
  {
   "cell_type": "code",
   "execution_count": 70,
   "metadata": {},
   "outputs": [
    {
     "name": "stdout",
     "output_type": "stream",
     "text": [
      "(717, 100)\n",
      "(717,)\n"
     ]
    },
    {
     "data": {
      "text/plain": [
       "(None, None)"
      ]
     },
     "execution_count": 70,
     "metadata": {},
     "output_type": "execute_result"
    }
   ],
   "source": [
    "print(X_train.shape), print(y_train.shape)"
   ]
  },
  {
   "cell_type": "code",
   "execution_count": 71,
   "metadata": {},
   "outputs": [
    {
     "name": "stdout",
     "output_type": "stream",
     "text": [
      "(340, 100)\n",
      "(340,)\n"
     ]
    },
    {
     "data": {
      "text/plain": [
       "(None, None)"
      ]
     },
     "execution_count": 71,
     "metadata": {},
     "output_type": "execute_result"
    }
   ],
   "source": [
    "print(X_test.shape), print(ytest.shape)"
   ]
  },
  {
   "cell_type": "code",
   "execution_count": 72,
   "metadata": {},
   "outputs": [],
   "source": [
    "X_train =X_train.reshape(X_train.shape[0],X_train.shape[1] , 1)\n",
    "X_test = X_test.reshape(X_test.shape[0],X_test.shape[1] , 1)"
   ]
  },
  {
   "cell_type": "code",
   "execution_count": 73,
   "metadata": {},
   "outputs": [
    {
     "data": {
      "text/plain": [
       "(717, 100, 1)"
      ]
     },
     "execution_count": 73,
     "metadata": {},
     "output_type": "execute_result"
    }
   ],
   "source": [
    "X_train.shape"
   ]
  },
  {
   "cell_type": "code",
   "execution_count": 74,
   "metadata": {},
   "outputs": [],
   "source": [
    "from tensorflow.keras.layers import Dense,Dropout,LSTM\n",
    "from tensorflow.keras.models import Sequential"
   ]
  },
  {
   "cell_type": "code",
   "execution_count": 80,
   "metadata": {},
   "outputs": [
    {
     "name": "stdout",
     "output_type": "stream",
     "text": [
      "Model: \"sequential_4\"\n",
      "_________________________________________________________________\n",
      "Layer (type)                 Output Shape              Param #   \n",
      "=================================================================\n",
      "lstm_9 (LSTM)                (None, 100, 50)           10400     \n",
      "_________________________________________________________________\n",
      "lstm_10 (LSTM)               (None, 100, 50)           20200     \n",
      "_________________________________________________________________\n",
      "lstm_11 (LSTM)               (None, 50)                20200     \n",
      "_________________________________________________________________\n",
      "dense_3 (Dense)              (None, 1)                 51        \n",
      "=================================================================\n",
      "Total params: 50,851\n",
      "Trainable params: 50,851\n",
      "Non-trainable params: 0\n",
      "_________________________________________________________________\n"
     ]
    }
   ],
   "source": [
    "mol=Sequential()\n",
    "mol.add(LSTM(50,return_sequences=True,input_shape=(100,1)))\n",
    "mol.add(LSTM(50,return_sequences=True))\n",
    "mol.add(LSTM(50))\n",
    "mol.add(Dense(1))\n",
    "mol.compile(optimizer='adam',loss='mean_squared_error')\n",
    "mol.summary()"
   ]
  },
  {
   "cell_type": "code",
   "execution_count": 81,
   "metadata": {},
   "outputs": [
    {
     "name": "stdout",
     "output_type": "stream",
     "text": [
      "Model: \"sequential_4\"\n",
      "_________________________________________________________________\n",
      "Layer (type)                 Output Shape              Param #   \n",
      "=================================================================\n",
      "lstm_9 (LSTM)                (None, 100, 50)           10400     \n",
      "_________________________________________________________________\n",
      "lstm_10 (LSTM)               (None, 100, 50)           20200     \n",
      "_________________________________________________________________\n",
      "lstm_11 (LSTM)               (None, 50)                20200     \n",
      "_________________________________________________________________\n",
      "dense_3 (Dense)              (None, 1)                 51        \n",
      "=================================================================\n",
      "Total params: 50,851\n",
      "Trainable params: 50,851\n",
      "Non-trainable params: 0\n",
      "_________________________________________________________________\n"
     ]
    }
   ],
   "source": [
    "mol.summary()"
   ]
  },
  {
   "cell_type": "code",
   "execution_count": 86,
   "metadata": {},
   "outputs": [
    {
     "name": "stdout",
     "output_type": "stream",
     "text": [
      "Train on 717 samples, validate on 340 samples\n",
      "Epoch 1/100\n",
      "717/717 [==============================] - 4s 5ms/sample - loss: 9.7881e-05 - val_loss: 7.7067e-04\n",
      "Epoch 2/100\n",
      "717/717 [==============================] - 3s 5ms/sample - loss: 9.7137e-05 - val_loss: 6.9960e-04\n",
      "Epoch 3/100\n",
      "717/717 [==============================] - 4s 5ms/sample - loss: 9.3128e-05 - val_loss: 7.1131e-04\n",
      "Epoch 4/100\n",
      "717/717 [==============================] - 4s 5ms/sample - loss: 9.4293e-05 - val_loss: 6.4612e-04\n",
      "Epoch 5/100\n",
      "717/717 [==============================] - 4s 6ms/sample - loss: 9.5465e-05 - val_loss: 0.0011\n",
      "Epoch 6/100\n",
      "717/717 [==============================] - 4s 5ms/sample - loss: 9.8400e-05 - val_loss: 0.0010\n",
      "Epoch 7/100\n",
      "717/717 [==============================] - 3s 5ms/sample - loss: 1.0310e-04 - val_loss: 6.4680e-04\n",
      "Epoch 8/100\n",
      "717/717 [==============================] - 3s 5ms/sample - loss: 1.1525e-04 - val_loss: 0.0013\n",
      "Epoch 9/100\n",
      "717/717 [==============================] - 4s 6ms/sample - loss: 1.1504e-04 - val_loss: 7.0018e-04\n",
      "Epoch 10/100\n",
      "717/717 [==============================] - 4s 6ms/sample - loss: 1.0198e-04 - val_loss: 7.0386e-04\n",
      "Epoch 11/100\n",
      "717/717 [==============================] - 4s 5ms/sample - loss: 9.3922e-05 - val_loss: 8.2040e-04\n",
      "Epoch 12/100\n",
      "717/717 [==============================] - 4s 5ms/sample - loss: 8.9731e-05 - val_loss: 6.3716e-04\n",
      "Epoch 13/100\n",
      "717/717 [==============================] - 4s 6ms/sample - loss: 1.0579e-04 - val_loss: 6.2590e-04\n",
      "Epoch 14/100\n",
      "717/717 [==============================] - 4s 5ms/sample - loss: 9.6206e-05 - val_loss: 6.6468e-04\n",
      "Epoch 15/100\n",
      "717/717 [==============================] - 4s 5ms/sample - loss: 9.5384e-05 - val_loss: 6.7975e-04\n",
      "Epoch 16/100\n",
      "717/717 [==============================] - 4s 5ms/sample - loss: 8.9544e-05 - val_loss: 7.4449e-04\n",
      "Epoch 17/100\n",
      "717/717 [==============================] - 4s 5ms/sample - loss: 9.4865e-05 - val_loss: 7.7986e-04\n",
      "Epoch 18/100\n",
      "717/717 [==============================] - 4s 6ms/sample - loss: 1.1179e-04 - val_loss: 6.7638e-04\n",
      "Epoch 19/100\n",
      "717/717 [==============================] - 4s 5ms/sample - loss: 1.0136e-04 - val_loss: 6.2889e-04\n",
      "Epoch 20/100\n",
      "717/717 [==============================] - 4s 6ms/sample - loss: 1.0164e-04 - val_loss: 7.8398e-04\n",
      "Epoch 21/100\n",
      "717/717 [==============================] - 4s 6ms/sample - loss: 1.0400e-04 - val_loss: 0.0013\n",
      "Epoch 22/100\n",
      "717/717 [==============================] - 4s 5ms/sample - loss: 1.1531e-04 - val_loss: 7.2155e-04\n",
      "Epoch 23/100\n",
      "717/717 [==============================] - 4s 6ms/sample - loss: 8.7923e-05 - val_loss: 6.3174e-04\n",
      "Epoch 24/100\n",
      "717/717 [==============================] - 4s 6ms/sample - loss: 8.7228e-05 - val_loss: 9.6753e-04\n",
      "Epoch 25/100\n",
      "717/717 [==============================] - 4s 6ms/sample - loss: 9.5830e-05 - val_loss: 6.3463e-04\n",
      "Epoch 26/100\n",
      "717/717 [==============================] - 4s 6ms/sample - loss: 9.0629e-05 - val_loss: 6.2822e-04\n",
      "Epoch 27/100\n",
      "717/717 [==============================] - 5s 6ms/sample - loss: 9.1257e-05 - val_loss: 6.4760e-04\n",
      "Epoch 28/100\n",
      "717/717 [==============================] - 4s 6ms/sample - loss: 8.6051e-05 - val_loss: 9.9820e-04\n",
      "Epoch 29/100\n",
      "717/717 [==============================] - 5s 6ms/sample - loss: 1.1878e-04 - val_loss: 9.9054e-04\n",
      "Epoch 30/100\n",
      "717/717 [==============================] - 5s 6ms/sample - loss: 1.0140e-04 - val_loss: 0.0014\n",
      "Epoch 31/100\n",
      "717/717 [==============================] - 4s 6ms/sample - loss: 1.0144e-04 - val_loss: 9.4353e-04\n",
      "Epoch 32/100\n",
      "717/717 [==============================] - 4s 6ms/sample - loss: 8.9706e-05 - val_loss: 6.5900e-04\n",
      "Epoch 33/100\n",
      "717/717 [==============================] - 4s 6ms/sample - loss: 8.6325e-05 - val_loss: 0.0012\n",
      "Epoch 34/100\n",
      "717/717 [==============================] - 4s 6ms/sample - loss: 8.4429e-05 - val_loss: 6.4129e-04\n",
      "Epoch 35/100\n",
      "717/717 [==============================] - 4s 6ms/sample - loss: 9.0057e-05 - val_loss: 6.3926e-04\n",
      "Epoch 36/100\n",
      "717/717 [==============================] - 4s 6ms/sample - loss: 1.0014e-04 - val_loss: 0.0010\n",
      "Epoch 37/100\n",
      "717/717 [==============================] - 4s 6ms/sample - loss: 8.5387e-05 - val_loss: 6.6350e-04\n",
      "Epoch 38/100\n",
      "717/717 [==============================] - 4s 5ms/sample - loss: 8.2138e-05 - val_loss: 6.7743e-04\n",
      "Epoch 39/100\n",
      "717/717 [==============================] - 4s 5ms/sample - loss: 9.9022e-05 - val_loss: 8.6584e-04\n",
      "Epoch 40/100\n",
      "717/717 [==============================] - 4s 5ms/sample - loss: 8.9638e-05 - val_loss: 6.4099e-04\n",
      "Epoch 41/100\n",
      "717/717 [==============================] - 4s 6ms/sample - loss: 9.2187e-05 - val_loss: 8.7560e-04\n",
      "Epoch 42/100\n",
      "717/717 [==============================] - 4s 6ms/sample - loss: 9.2688e-05 - val_loss: 0.0021\n",
      "Epoch 43/100\n",
      "717/717 [==============================] - 4s 6ms/sample - loss: 1.1411e-04 - val_loss: 0.0011\n",
      "Epoch 44/100\n",
      "717/717 [==============================] - 4s 5ms/sample - loss: 9.7805e-05 - val_loss: 8.6421e-04\n",
      "Epoch 45/100\n",
      "717/717 [==============================] - 4s 5ms/sample - loss: 8.2420e-05 - val_loss: 0.0011\n",
      "Epoch 46/100\n",
      "717/717 [==============================] - 4s 5ms/sample - loss: 8.6078e-05 - val_loss: 6.8329e-04\n",
      "Epoch 47/100\n",
      "717/717 [==============================] - 4s 6ms/sample - loss: 8.5215e-05 - val_loss: 6.7256e-04\n",
      "Epoch 48/100\n",
      "717/717 [==============================] - 5s 7ms/sample - loss: 8.1403e-05 - val_loss: 6.4518e-04\n",
      "Epoch 49/100\n",
      "717/717 [==============================] - 5s 6ms/sample - loss: 8.1600e-05 - val_loss: 0.0014\n",
      "Epoch 50/100\n",
      "717/717 [==============================] - 4s 6ms/sample - loss: 8.1307e-05 - val_loss: 7.7242e-04\n",
      "Epoch 51/100\n",
      "717/717 [==============================] - 4s 6ms/sample - loss: 9.8145e-05 - val_loss: 8.8296e-04\n",
      "Epoch 52/100\n",
      "717/717 [==============================] - 6s 8ms/sample - loss: 1.0996e-04 - val_loss: 6.8054e-04\n",
      "Epoch 53/100\n",
      "717/717 [==============================] - 4s 6ms/sample - loss: 8.5163e-05 - val_loss: 8.9247e-04\n",
      "Epoch 54/100\n",
      "717/717 [==============================] - 4s 6ms/sample - loss: 8.5733e-05 - val_loss: 6.8967e-04\n",
      "Epoch 55/100\n",
      "717/717 [==============================] - 4s 6ms/sample - loss: 9.0733e-05 - val_loss: 8.9161e-04\n",
      "Epoch 56/100\n",
      "717/717 [==============================] - 4s 6ms/sample - loss: 7.9230e-05 - val_loss: 0.0015\n",
      "Epoch 57/100\n",
      "717/717 [==============================] - 4s 6ms/sample - loss: 1.2556e-04 - val_loss: 8.3969e-04\n",
      "Epoch 58/100\n",
      "717/717 [==============================] - 4s 6ms/sample - loss: 9.9274e-05 - val_loss: 7.7373e-04\n",
      "Epoch 59/100\n",
      "717/717 [==============================] - 4s 6ms/sample - loss: 1.1834e-04 - val_loss: 6.5792e-04\n",
      "Epoch 60/100\n",
      "717/717 [==============================] - 4s 6ms/sample - loss: 8.1995e-05 - val_loss: 6.6838e-04\n",
      "Epoch 61/100\n",
      "717/717 [==============================] - 4s 6ms/sample - loss: 7.8397e-05 - val_loss: 0.0016\n",
      "Epoch 62/100\n",
      "717/717 [==============================] - 4s 5ms/sample - loss: 9.8683e-05 - val_loss: 0.0011\n",
      "Epoch 63/100\n",
      "717/717 [==============================] - 4s 5ms/sample - loss: 8.5111e-05 - val_loss: 0.0022\n",
      "Epoch 64/100\n",
      "704/717 [============================>.] - ETA: 0s - loss: 1.1914e-04"
     ]
    },
    {
     "ename": "KeyboardInterrupt",
     "evalue": "",
     "output_type": "error",
     "traceback": [
      "\u001b[1;31m---------------------------------------------------------------------------\u001b[0m",
      "\u001b[1;31mKeyboardInterrupt\u001b[0m                         Traceback (most recent call last)",
      "\u001b[1;32m<ipython-input-86-9cf12aace6e1>\u001b[0m in \u001b[0;36m<module>\u001b[1;34m\u001b[0m\n\u001b[1;32m----> 1\u001b[1;33m \u001b[0mmol\u001b[0m\u001b[1;33m.\u001b[0m\u001b[0mfit\u001b[0m\u001b[1;33m(\u001b[0m\u001b[0mX_train\u001b[0m\u001b[1;33m,\u001b[0m\u001b[0my_train\u001b[0m\u001b[1;33m,\u001b[0m\u001b[0mvalidation_data\u001b[0m\u001b[1;33m=\u001b[0m\u001b[1;33m(\u001b[0m\u001b[0mX_test\u001b[0m\u001b[1;33m,\u001b[0m\u001b[0my_test\u001b[0m\u001b[1;33m)\u001b[0m\u001b[1;33m,\u001b[0m\u001b[0mepochs\u001b[0m\u001b[1;33m=\u001b[0m\u001b[1;36m100\u001b[0m\u001b[1;33m,\u001b[0m\u001b[0mbatch_size\u001b[0m\u001b[1;33m=\u001b[0m\u001b[1;36m64\u001b[0m\u001b[1;33m,\u001b[0m\u001b[0mverbose\u001b[0m\u001b[1;33m=\u001b[0m\u001b[1;36m1\u001b[0m\u001b[1;33m)\u001b[0m\u001b[1;33m\u001b[0m\u001b[1;33m\u001b[0m\u001b[0m\n\u001b[0m",
      "\u001b[1;32m~\\.conda\\envs\\tf\\lib\\site-packages\\tensorflow_core\\python\\keras\\engine\\training.py\u001b[0m in \u001b[0;36mfit\u001b[1;34m(self, x, y, batch_size, epochs, verbose, callbacks, validation_split, validation_data, shuffle, class_weight, sample_weight, initial_epoch, steps_per_epoch, validation_steps, validation_freq, max_queue_size, workers, use_multiprocessing, **kwargs)\u001b[0m\n\u001b[0;32m    817\u001b[0m         \u001b[0mmax_queue_size\u001b[0m\u001b[1;33m=\u001b[0m\u001b[0mmax_queue_size\u001b[0m\u001b[1;33m,\u001b[0m\u001b[1;33m\u001b[0m\u001b[1;33m\u001b[0m\u001b[0m\n\u001b[0;32m    818\u001b[0m         \u001b[0mworkers\u001b[0m\u001b[1;33m=\u001b[0m\u001b[0mworkers\u001b[0m\u001b[1;33m,\u001b[0m\u001b[1;33m\u001b[0m\u001b[1;33m\u001b[0m\u001b[0m\n\u001b[1;32m--> 819\u001b[1;33m         use_multiprocessing=use_multiprocessing)\n\u001b[0m\u001b[0;32m    820\u001b[0m \u001b[1;33m\u001b[0m\u001b[0m\n\u001b[0;32m    821\u001b[0m   def evaluate(self,\n",
      "\u001b[1;32m~\\.conda\\envs\\tf\\lib\\site-packages\\tensorflow_core\\python\\keras\\engine\\training_v2.py\u001b[0m in \u001b[0;36mfit\u001b[1;34m(self, model, x, y, batch_size, epochs, verbose, callbacks, validation_split, validation_data, shuffle, class_weight, sample_weight, initial_epoch, steps_per_epoch, validation_steps, validation_freq, max_queue_size, workers, use_multiprocessing, **kwargs)\u001b[0m\n\u001b[0;32m    340\u001b[0m                 \u001b[0mmode\u001b[0m\u001b[1;33m=\u001b[0m\u001b[0mModeKeys\u001b[0m\u001b[1;33m.\u001b[0m\u001b[0mTRAIN\u001b[0m\u001b[1;33m,\u001b[0m\u001b[1;33m\u001b[0m\u001b[1;33m\u001b[0m\u001b[0m\n\u001b[0;32m    341\u001b[0m                 \u001b[0mtraining_context\u001b[0m\u001b[1;33m=\u001b[0m\u001b[0mtraining_context\u001b[0m\u001b[1;33m,\u001b[0m\u001b[1;33m\u001b[0m\u001b[1;33m\u001b[0m\u001b[0m\n\u001b[1;32m--> 342\u001b[1;33m                 total_epochs=epochs)\n\u001b[0m\u001b[0;32m    343\u001b[0m             \u001b[0mcbks\u001b[0m\u001b[1;33m.\u001b[0m\u001b[0mmake_logs\u001b[0m\u001b[1;33m(\u001b[0m\u001b[0mmodel\u001b[0m\u001b[1;33m,\u001b[0m \u001b[0mepoch_logs\u001b[0m\u001b[1;33m,\u001b[0m \u001b[0mtraining_result\u001b[0m\u001b[1;33m,\u001b[0m \u001b[0mModeKeys\u001b[0m\u001b[1;33m.\u001b[0m\u001b[0mTRAIN\u001b[0m\u001b[1;33m)\u001b[0m\u001b[1;33m\u001b[0m\u001b[1;33m\u001b[0m\u001b[0m\n\u001b[0;32m    344\u001b[0m \u001b[1;33m\u001b[0m\u001b[0m\n",
      "\u001b[1;32m~\\.conda\\envs\\tf\\lib\\site-packages\\tensorflow_core\\python\\keras\\engine\\training_v2.py\u001b[0m in \u001b[0;36mrun_one_epoch\u001b[1;34m(model, iterator, execution_function, dataset_size, batch_size, strategy, steps_per_epoch, num_samples, mode, training_context, total_epochs)\u001b[0m\n\u001b[0;32m    126\u001b[0m         step=step, mode=mode, size=current_batch_size) as batch_logs:\n\u001b[0;32m    127\u001b[0m       \u001b[1;32mtry\u001b[0m\u001b[1;33m:\u001b[0m\u001b[1;33m\u001b[0m\u001b[1;33m\u001b[0m\u001b[0m\n\u001b[1;32m--> 128\u001b[1;33m         \u001b[0mbatch_outs\u001b[0m \u001b[1;33m=\u001b[0m \u001b[0mexecution_function\u001b[0m\u001b[1;33m(\u001b[0m\u001b[0miterator\u001b[0m\u001b[1;33m)\u001b[0m\u001b[1;33m\u001b[0m\u001b[1;33m\u001b[0m\u001b[0m\n\u001b[0m\u001b[0;32m    129\u001b[0m       \u001b[1;32mexcept\u001b[0m \u001b[1;33m(\u001b[0m\u001b[0mStopIteration\u001b[0m\u001b[1;33m,\u001b[0m \u001b[0merrors\u001b[0m\u001b[1;33m.\u001b[0m\u001b[0mOutOfRangeError\u001b[0m\u001b[1;33m)\u001b[0m\u001b[1;33m:\u001b[0m\u001b[1;33m\u001b[0m\u001b[1;33m\u001b[0m\u001b[0m\n\u001b[0;32m    130\u001b[0m         \u001b[1;31m# TODO(kaftan): File bug about tf function and errors.OutOfRangeError?\u001b[0m\u001b[1;33m\u001b[0m\u001b[1;33m\u001b[0m\u001b[1;33m\u001b[0m\u001b[0m\n",
      "\u001b[1;32m~\\.conda\\envs\\tf\\lib\\site-packages\\tensorflow_core\\python\\keras\\engine\\training_v2_utils.py\u001b[0m in \u001b[0;36mexecution_function\u001b[1;34m(input_fn)\u001b[0m\n\u001b[0;32m     96\u001b[0m     \u001b[1;31m# `numpy` translates Tensors to values in Eager mode.\u001b[0m\u001b[1;33m\u001b[0m\u001b[1;33m\u001b[0m\u001b[1;33m\u001b[0m\u001b[0m\n\u001b[0;32m     97\u001b[0m     return nest.map_structure(_non_none_constant_value,\n\u001b[1;32m---> 98\u001b[1;33m                               distributed_function(input_fn))\n\u001b[0m\u001b[0;32m     99\u001b[0m \u001b[1;33m\u001b[0m\u001b[0m\n\u001b[0;32m    100\u001b[0m   \u001b[1;32mreturn\u001b[0m \u001b[0mexecution_function\u001b[0m\u001b[1;33m\u001b[0m\u001b[1;33m\u001b[0m\u001b[0m\n",
      "\u001b[1;32m~\\.conda\\envs\\tf\\lib\\site-packages\\tensorflow_core\\python\\eager\\def_function.py\u001b[0m in \u001b[0;36m__call__\u001b[1;34m(self, *args, **kwds)\u001b[0m\n\u001b[0;32m    566\u001b[0m         \u001b[0mxla_context\u001b[0m\u001b[1;33m.\u001b[0m\u001b[0mExit\u001b[0m\u001b[1;33m(\u001b[0m\u001b[1;33m)\u001b[0m\u001b[1;33m\u001b[0m\u001b[1;33m\u001b[0m\u001b[0m\n\u001b[0;32m    567\u001b[0m     \u001b[1;32melse\u001b[0m\u001b[1;33m:\u001b[0m\u001b[1;33m\u001b[0m\u001b[1;33m\u001b[0m\u001b[0m\n\u001b[1;32m--> 568\u001b[1;33m       \u001b[0mresult\u001b[0m \u001b[1;33m=\u001b[0m \u001b[0mself\u001b[0m\u001b[1;33m.\u001b[0m\u001b[0m_call\u001b[0m\u001b[1;33m(\u001b[0m\u001b[1;33m*\u001b[0m\u001b[0margs\u001b[0m\u001b[1;33m,\u001b[0m \u001b[1;33m**\u001b[0m\u001b[0mkwds\u001b[0m\u001b[1;33m)\u001b[0m\u001b[1;33m\u001b[0m\u001b[1;33m\u001b[0m\u001b[0m\n\u001b[0m\u001b[0;32m    569\u001b[0m \u001b[1;33m\u001b[0m\u001b[0m\n\u001b[0;32m    570\u001b[0m     \u001b[1;32mif\u001b[0m \u001b[0mtracing_count\u001b[0m \u001b[1;33m==\u001b[0m \u001b[0mself\u001b[0m\u001b[1;33m.\u001b[0m\u001b[0m_get_tracing_count\u001b[0m\u001b[1;33m(\u001b[0m\u001b[1;33m)\u001b[0m\u001b[1;33m:\u001b[0m\u001b[1;33m\u001b[0m\u001b[1;33m\u001b[0m\u001b[0m\n",
      "\u001b[1;32m~\\.conda\\envs\\tf\\lib\\site-packages\\tensorflow_core\\python\\eager\\def_function.py\u001b[0m in \u001b[0;36m_call\u001b[1;34m(self, *args, **kwds)\u001b[0m\n\u001b[0;32m    597\u001b[0m       \u001b[1;31m# In this case we have created variables on the first call, so we run the\u001b[0m\u001b[1;33m\u001b[0m\u001b[1;33m\u001b[0m\u001b[1;33m\u001b[0m\u001b[0m\n\u001b[0;32m    598\u001b[0m       \u001b[1;31m# defunned version which is guaranteed to never create variables.\u001b[0m\u001b[1;33m\u001b[0m\u001b[1;33m\u001b[0m\u001b[1;33m\u001b[0m\u001b[0m\n\u001b[1;32m--> 599\u001b[1;33m       \u001b[1;32mreturn\u001b[0m \u001b[0mself\u001b[0m\u001b[1;33m.\u001b[0m\u001b[0m_stateless_fn\u001b[0m\u001b[1;33m(\u001b[0m\u001b[1;33m*\u001b[0m\u001b[0margs\u001b[0m\u001b[1;33m,\u001b[0m \u001b[1;33m**\u001b[0m\u001b[0mkwds\u001b[0m\u001b[1;33m)\u001b[0m  \u001b[1;31m# pylint: disable=not-callable\u001b[0m\u001b[1;33m\u001b[0m\u001b[1;33m\u001b[0m\u001b[0m\n\u001b[0m\u001b[0;32m    600\u001b[0m     \u001b[1;32melif\u001b[0m \u001b[0mself\u001b[0m\u001b[1;33m.\u001b[0m\u001b[0m_stateful_fn\u001b[0m \u001b[1;32mis\u001b[0m \u001b[1;32mnot\u001b[0m \u001b[1;32mNone\u001b[0m\u001b[1;33m:\u001b[0m\u001b[1;33m\u001b[0m\u001b[1;33m\u001b[0m\u001b[0m\n\u001b[0;32m    601\u001b[0m       \u001b[1;31m# Release the lock early so that multiple threads can perform the call\u001b[0m\u001b[1;33m\u001b[0m\u001b[1;33m\u001b[0m\u001b[1;33m\u001b[0m\u001b[0m\n",
      "\u001b[1;32m~\\.conda\\envs\\tf\\lib\\site-packages\\tensorflow_core\\python\\eager\\function.py\u001b[0m in \u001b[0;36m__call__\u001b[1;34m(self, *args, **kwargs)\u001b[0m\n\u001b[0;32m   2361\u001b[0m     \u001b[1;32mwith\u001b[0m \u001b[0mself\u001b[0m\u001b[1;33m.\u001b[0m\u001b[0m_lock\u001b[0m\u001b[1;33m:\u001b[0m\u001b[1;33m\u001b[0m\u001b[1;33m\u001b[0m\u001b[0m\n\u001b[0;32m   2362\u001b[0m       \u001b[0mgraph_function\u001b[0m\u001b[1;33m,\u001b[0m \u001b[0margs\u001b[0m\u001b[1;33m,\u001b[0m \u001b[0mkwargs\u001b[0m \u001b[1;33m=\u001b[0m \u001b[0mself\u001b[0m\u001b[1;33m.\u001b[0m\u001b[0m_maybe_define_function\u001b[0m\u001b[1;33m(\u001b[0m\u001b[0margs\u001b[0m\u001b[1;33m,\u001b[0m \u001b[0mkwargs\u001b[0m\u001b[1;33m)\u001b[0m\u001b[1;33m\u001b[0m\u001b[1;33m\u001b[0m\u001b[0m\n\u001b[1;32m-> 2363\u001b[1;33m     \u001b[1;32mreturn\u001b[0m \u001b[0mgraph_function\u001b[0m\u001b[1;33m.\u001b[0m\u001b[0m_filtered_call\u001b[0m\u001b[1;33m(\u001b[0m\u001b[0margs\u001b[0m\u001b[1;33m,\u001b[0m \u001b[0mkwargs\u001b[0m\u001b[1;33m)\u001b[0m  \u001b[1;31m# pylint: disable=protected-access\u001b[0m\u001b[1;33m\u001b[0m\u001b[1;33m\u001b[0m\u001b[0m\n\u001b[0m\u001b[0;32m   2364\u001b[0m \u001b[1;33m\u001b[0m\u001b[0m\n\u001b[0;32m   2365\u001b[0m   \u001b[1;33m@\u001b[0m\u001b[0mproperty\u001b[0m\u001b[1;33m\u001b[0m\u001b[1;33m\u001b[0m\u001b[0m\n",
      "\u001b[1;32m~\\.conda\\envs\\tf\\lib\\site-packages\\tensorflow_core\\python\\eager\\function.py\u001b[0m in \u001b[0;36m_filtered_call\u001b[1;34m(self, args, kwargs)\u001b[0m\n\u001b[0;32m   1609\u001b[0m          if isinstance(t, (ops.Tensor,\n\u001b[0;32m   1610\u001b[0m                            resource_variable_ops.BaseResourceVariable))),\n\u001b[1;32m-> 1611\u001b[1;33m         self.captured_inputs)\n\u001b[0m\u001b[0;32m   1612\u001b[0m \u001b[1;33m\u001b[0m\u001b[0m\n\u001b[0;32m   1613\u001b[0m   \u001b[1;32mdef\u001b[0m \u001b[0m_call_flat\u001b[0m\u001b[1;33m(\u001b[0m\u001b[0mself\u001b[0m\u001b[1;33m,\u001b[0m \u001b[0margs\u001b[0m\u001b[1;33m,\u001b[0m \u001b[0mcaptured_inputs\u001b[0m\u001b[1;33m,\u001b[0m \u001b[0mcancellation_manager\u001b[0m\u001b[1;33m=\u001b[0m\u001b[1;32mNone\u001b[0m\u001b[1;33m)\u001b[0m\u001b[1;33m:\u001b[0m\u001b[1;33m\u001b[0m\u001b[1;33m\u001b[0m\u001b[0m\n",
      "\u001b[1;32m~\\.conda\\envs\\tf\\lib\\site-packages\\tensorflow_core\\python\\eager\\function.py\u001b[0m in \u001b[0;36m_call_flat\u001b[1;34m(self, args, captured_inputs, cancellation_manager)\u001b[0m\n\u001b[0;32m   1690\u001b[0m       \u001b[1;31m# No tape is watching; skip to running the function.\u001b[0m\u001b[1;33m\u001b[0m\u001b[1;33m\u001b[0m\u001b[1;33m\u001b[0m\u001b[0m\n\u001b[0;32m   1691\u001b[0m       return self._build_call_outputs(self._inference_function.call(\n\u001b[1;32m-> 1692\u001b[1;33m           ctx, args, cancellation_manager=cancellation_manager))\n\u001b[0m\u001b[0;32m   1693\u001b[0m     forward_backward = self._select_forward_and_backward_functions(\n\u001b[0;32m   1694\u001b[0m         \u001b[0margs\u001b[0m\u001b[1;33m,\u001b[0m\u001b[1;33m\u001b[0m\u001b[1;33m\u001b[0m\u001b[0m\n",
      "\u001b[1;32m~\\.conda\\envs\\tf\\lib\\site-packages\\tensorflow_core\\python\\eager\\function.py\u001b[0m in \u001b[0;36mcall\u001b[1;34m(self, ctx, args, cancellation_manager)\u001b[0m\n\u001b[0;32m    543\u001b[0m               \u001b[0minputs\u001b[0m\u001b[1;33m=\u001b[0m\u001b[0margs\u001b[0m\u001b[1;33m,\u001b[0m\u001b[1;33m\u001b[0m\u001b[1;33m\u001b[0m\u001b[0m\n\u001b[0;32m    544\u001b[0m               \u001b[0mattrs\u001b[0m\u001b[1;33m=\u001b[0m\u001b[1;33m(\u001b[0m\u001b[1;34m\"executor_type\"\u001b[0m\u001b[1;33m,\u001b[0m \u001b[0mexecutor_type\u001b[0m\u001b[1;33m,\u001b[0m \u001b[1;34m\"config_proto\"\u001b[0m\u001b[1;33m,\u001b[0m \u001b[0mconfig\u001b[0m\u001b[1;33m)\u001b[0m\u001b[1;33m,\u001b[0m\u001b[1;33m\u001b[0m\u001b[1;33m\u001b[0m\u001b[0m\n\u001b[1;32m--> 545\u001b[1;33m               ctx=ctx)\n\u001b[0m\u001b[0;32m    546\u001b[0m         \u001b[1;32melse\u001b[0m\u001b[1;33m:\u001b[0m\u001b[1;33m\u001b[0m\u001b[1;33m\u001b[0m\u001b[0m\n\u001b[0;32m    547\u001b[0m           outputs = execute.execute_with_cancellation(\n",
      "\u001b[1;32m~\\.conda\\envs\\tf\\lib\\site-packages\\tensorflow_core\\python\\eager\\execute.py\u001b[0m in \u001b[0;36mquick_execute\u001b[1;34m(op_name, num_outputs, inputs, attrs, ctx, name)\u001b[0m\n\u001b[0;32m     59\u001b[0m     tensors = pywrap_tensorflow.TFE_Py_Execute(ctx._handle, device_name,\n\u001b[0;32m     60\u001b[0m                                                \u001b[0mop_name\u001b[0m\u001b[1;33m,\u001b[0m \u001b[0minputs\u001b[0m\u001b[1;33m,\u001b[0m \u001b[0mattrs\u001b[0m\u001b[1;33m,\u001b[0m\u001b[1;33m\u001b[0m\u001b[1;33m\u001b[0m\u001b[0m\n\u001b[1;32m---> 61\u001b[1;33m                                                num_outputs)\n\u001b[0m\u001b[0;32m     62\u001b[0m   \u001b[1;32mexcept\u001b[0m \u001b[0mcore\u001b[0m\u001b[1;33m.\u001b[0m\u001b[0m_NotOkStatusException\u001b[0m \u001b[1;32mas\u001b[0m \u001b[0me\u001b[0m\u001b[1;33m:\u001b[0m\u001b[1;33m\u001b[0m\u001b[1;33m\u001b[0m\u001b[0m\n\u001b[0;32m     63\u001b[0m     \u001b[1;32mif\u001b[0m \u001b[0mname\u001b[0m \u001b[1;32mis\u001b[0m \u001b[1;32mnot\u001b[0m \u001b[1;32mNone\u001b[0m\u001b[1;33m:\u001b[0m\u001b[1;33m\u001b[0m\u001b[1;33m\u001b[0m\u001b[0m\n",
      "\u001b[1;31mKeyboardInterrupt\u001b[0m: "
     ]
    }
   ],
   "source": [
    "mol.fit(X_train,y_train,validation_data=(X_test,y_test),epochs=100,batch_size=64,verbose=1)"
   ]
  },
  {
   "cell_type": "code",
   "execution_count": null,
   "metadata": {},
   "outputs": [],
   "source": []
  }
 ],
 "metadata": {
  "kernelspec": {
   "display_name": "Python 3",
   "language": "python",
   "name": "python3"
  },
  "language_info": {
   "codemirror_mode": {
    "name": "ipython",
    "version": 3
   },
   "file_extension": ".py",
   "mimetype": "text/x-python",
   "name": "python",
   "nbconvert_exporter": "python",
   "pygments_lexer": "ipython3",
   "version": "3.7.7"
  }
 },
 "nbformat": 4,
 "nbformat_minor": 4
}
